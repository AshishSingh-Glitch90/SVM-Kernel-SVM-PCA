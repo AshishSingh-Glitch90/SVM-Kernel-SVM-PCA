{
 "cells": [
  {
   "cell_type": "markdown",
   "metadata": {},
   "source": [
    "## Programming Assignment"
   ]
  },
  {
   "cell_type": "markdown",
   "metadata": {},
   "source": [
    "# II. Data\n",
    "\n",
    "You may choose one of the following three datasets to work on. Introduce your data and visualize them. Describe your observations about the data. \n",
    "1. https://archive.ics.uci.edu/ml/datasets/covertype\n",
    "2. https://archive.ics.uci.edu/ml/datasets/cnae-9\n",
    "3. https://archive.ics.uci.edu/ml/datasets/Activity+recognition+using+wearable+physiological+measurements (DL Link - https://www.ncbi.nlm.nih.gov/pmc/articles/PMC6960825/bin/sensors-19-05524-s001.zip )\n"
   ]
  },
  {
   "cell_type": "markdown",
   "metadata": {},
   "source": [
    "# III. Method\n",
    "\n",
    "In the earlier assignment you had to implement Least Mean Square Classifier, Fisher Linear Discriminant, Perceptron,logistic regression, and Neural Network. In this assignment your tasks are the followings:\n",
    "\n",
    "1. Implement both SVM and Kernel SVM and report the classification performance of the classifiers on the original dataset.\n",
    "2. Use PCA to reduce the feature representation to a more compact version that may be of size: 10%, 15%, 20%, 25%, and 30% of the originial dataset dimension.\n",
    "3. Compare the performance of the classifier using the PCA reduced descriptor and the original feature descriptor.\n",
    "\n",
    "Do not forget to explain your implementation. \n",
    "\n",
    "The explanation of your codes should not be the comments in a code cell. \n",
    "\n",
    "Each implementation will be followed by a separate markdown cell that should include\n",
    " - your implementation description\n",
    " - Review of the classification model implemented.\n",
    " - Plots or metrics to show the performance of the algorithm"
   ]
  },
  {
   "cell_type": "markdown",
   "metadata": {},
   "source": [
    "### Method"
   ]
  },
  {
   "cell_type": "code",
   "execution_count": 24,
   "metadata": {},
   "outputs": [],
   "source": [
    "##your method implementation goes here\n",
    "import pandas as pd\n",
    "import numpy as np\n",
    "import matplotlib.pyplot as plt\n",
    "from sklearn import preprocessing"
   ]
  },
  {
   "cell_type": "markdown",
   "metadata": {},
   "source": [
    "## Loading, preprocessing, splitting and visualization of dataset"
   ]
  },
  {
   "cell_type": "code",
   "execution_count": 25,
   "metadata": {},
   "outputs": [
    {
     "data": {
      "text/html": [
       "<div>\n",
       "<style scoped>\n",
       "    .dataframe tbody tr th:only-of-type {\n",
       "        vertical-align: middle;\n",
       "    }\n",
       "\n",
       "    .dataframe tbody tr th {\n",
       "        vertical-align: top;\n",
       "    }\n",
       "\n",
       "    .dataframe thead th {\n",
       "        text-align: right;\n",
       "    }\n",
       "</style>\n",
       "<table border=\"1\" class=\"dataframe\">\n",
       "  <thead>\n",
       "    <tr style=\"text-align: right;\">\n",
       "      <th></th>\n",
       "      <th>2596</th>\n",
       "      <th>51</th>\n",
       "      <th>3</th>\n",
       "      <th>258</th>\n",
       "      <th>0</th>\n",
       "      <th>510</th>\n",
       "      <th>221</th>\n",
       "      <th>232</th>\n",
       "      <th>148</th>\n",
       "      <th>6279</th>\n",
       "      <th>...</th>\n",
       "      <th>0.34</th>\n",
       "      <th>0.35</th>\n",
       "      <th>0.36</th>\n",
       "      <th>0.37</th>\n",
       "      <th>0.38</th>\n",
       "      <th>0.39</th>\n",
       "      <th>0.40</th>\n",
       "      <th>0.41</th>\n",
       "      <th>0.42</th>\n",
       "      <th>5</th>\n",
       "    </tr>\n",
       "  </thead>\n",
       "  <tbody>\n",
       "    <tr>\n",
       "      <th>0</th>\n",
       "      <td>2590</td>\n",
       "      <td>56</td>\n",
       "      <td>2</td>\n",
       "      <td>212</td>\n",
       "      <td>-6</td>\n",
       "      <td>390</td>\n",
       "      <td>220</td>\n",
       "      <td>235</td>\n",
       "      <td>151</td>\n",
       "      <td>6225</td>\n",
       "      <td>...</td>\n",
       "      <td>0</td>\n",
       "      <td>0</td>\n",
       "      <td>0</td>\n",
       "      <td>0</td>\n",
       "      <td>0</td>\n",
       "      <td>0</td>\n",
       "      <td>0</td>\n",
       "      <td>0</td>\n",
       "      <td>0</td>\n",
       "      <td>5</td>\n",
       "    </tr>\n",
       "    <tr>\n",
       "      <th>1</th>\n",
       "      <td>2804</td>\n",
       "      <td>139</td>\n",
       "      <td>9</td>\n",
       "      <td>268</td>\n",
       "      <td>65</td>\n",
       "      <td>3180</td>\n",
       "      <td>234</td>\n",
       "      <td>238</td>\n",
       "      <td>135</td>\n",
       "      <td>6121</td>\n",
       "      <td>...</td>\n",
       "      <td>0</td>\n",
       "      <td>0</td>\n",
       "      <td>0</td>\n",
       "      <td>0</td>\n",
       "      <td>0</td>\n",
       "      <td>0</td>\n",
       "      <td>0</td>\n",
       "      <td>0</td>\n",
       "      <td>0</td>\n",
       "      <td>2</td>\n",
       "    </tr>\n",
       "    <tr>\n",
       "      <th>2</th>\n",
       "      <td>2785</td>\n",
       "      <td>155</td>\n",
       "      <td>18</td>\n",
       "      <td>242</td>\n",
       "      <td>118</td>\n",
       "      <td>3090</td>\n",
       "      <td>238</td>\n",
       "      <td>238</td>\n",
       "      <td>122</td>\n",
       "      <td>6211</td>\n",
       "      <td>...</td>\n",
       "      <td>0</td>\n",
       "      <td>0</td>\n",
       "      <td>0</td>\n",
       "      <td>0</td>\n",
       "      <td>0</td>\n",
       "      <td>0</td>\n",
       "      <td>0</td>\n",
       "      <td>0</td>\n",
       "      <td>0</td>\n",
       "      <td>2</td>\n",
       "    </tr>\n",
       "    <tr>\n",
       "      <th>3</th>\n",
       "      <td>2595</td>\n",
       "      <td>45</td>\n",
       "      <td>2</td>\n",
       "      <td>153</td>\n",
       "      <td>-1</td>\n",
       "      <td>391</td>\n",
       "      <td>220</td>\n",
       "      <td>234</td>\n",
       "      <td>150</td>\n",
       "      <td>6172</td>\n",
       "      <td>...</td>\n",
       "      <td>0</td>\n",
       "      <td>0</td>\n",
       "      <td>0</td>\n",
       "      <td>0</td>\n",
       "      <td>0</td>\n",
       "      <td>0</td>\n",
       "      <td>0</td>\n",
       "      <td>0</td>\n",
       "      <td>0</td>\n",
       "      <td>5</td>\n",
       "    </tr>\n",
       "    <tr>\n",
       "      <th>4</th>\n",
       "      <td>2579</td>\n",
       "      <td>132</td>\n",
       "      <td>6</td>\n",
       "      <td>300</td>\n",
       "      <td>-15</td>\n",
       "      <td>67</td>\n",
       "      <td>230</td>\n",
       "      <td>237</td>\n",
       "      <td>140</td>\n",
       "      <td>6031</td>\n",
       "      <td>...</td>\n",
       "      <td>0</td>\n",
       "      <td>0</td>\n",
       "      <td>0</td>\n",
       "      <td>0</td>\n",
       "      <td>0</td>\n",
       "      <td>0</td>\n",
       "      <td>0</td>\n",
       "      <td>0</td>\n",
       "      <td>0</td>\n",
       "      <td>2</td>\n",
       "    </tr>\n",
       "  </tbody>\n",
       "</table>\n",
       "<p>5 rows × 55 columns</p>\n",
       "</div>"
      ],
      "text/plain": [
       "   2596   51   3  258    0   510  221  232  148  6279  ...  0.34  0.35  0.36  \\\n",
       "0  2590   56   2  212   -6   390  220  235  151  6225  ...     0     0     0   \n",
       "1  2804  139   9  268   65  3180  234  238  135  6121  ...     0     0     0   \n",
       "2  2785  155  18  242  118  3090  238  238  122  6211  ...     0     0     0   \n",
       "3  2595   45   2  153   -1   391  220  234  150  6172  ...     0     0     0   \n",
       "4  2579  132   6  300  -15    67  230  237  140  6031  ...     0     0     0   \n",
       "\n",
       "   0.37  0.38  0.39  0.40  0.41  0.42  5  \n",
       "0     0     0     0     0     0     0  5  \n",
       "1     0     0     0     0     0     0  2  \n",
       "2     0     0     0     0     0     0  2  \n",
       "3     0     0     0     0     0     0  5  \n",
       "4     0     0     0     0     0     0  2  \n",
       "\n",
       "[5 rows x 55 columns]"
      ]
     },
     "execution_count": 25,
     "metadata": {},
     "output_type": "execute_result"
    }
   ],
   "source": [
    "covertype = pd.read_csv('covtype.data') #Loading the data using the pandas dataframe.\n",
    "covertype.head()"
   ]
  },
  {
   "cell_type": "code",
   "execution_count": 26,
   "metadata": {},
   "outputs": [
    {
     "data": {
      "text/html": [
       "<div>\n",
       "<style scoped>\n",
       "    .dataframe tbody tr th:only-of-type {\n",
       "        vertical-align: middle;\n",
       "    }\n",
       "\n",
       "    .dataframe tbody tr th {\n",
       "        vertical-align: top;\n",
       "    }\n",
       "\n",
       "    .dataframe thead th {\n",
       "        text-align: right;\n",
       "    }\n",
       "</style>\n",
       "<table border=\"1\" class=\"dataframe\">\n",
       "  <thead>\n",
       "    <tr style=\"text-align: right;\">\n",
       "      <th></th>\n",
       "      <th>2596</th>\n",
       "      <th>51</th>\n",
       "      <th>3</th>\n",
       "      <th>258</th>\n",
       "      <th>0</th>\n",
       "      <th>510</th>\n",
       "      <th>221</th>\n",
       "      <th>232</th>\n",
       "      <th>148</th>\n",
       "      <th>6279</th>\n",
       "      <th>...</th>\n",
       "      <th>0.33</th>\n",
       "      <th>0.34</th>\n",
       "      <th>0.35</th>\n",
       "      <th>0.36</th>\n",
       "      <th>0.37</th>\n",
       "      <th>0.38</th>\n",
       "      <th>0.39</th>\n",
       "      <th>0.40</th>\n",
       "      <th>0.41</th>\n",
       "      <th>0.42</th>\n",
       "    </tr>\n",
       "  </thead>\n",
       "  <tbody>\n",
       "    <tr>\n",
       "      <th>0</th>\n",
       "      <td>0.365683</td>\n",
       "      <td>0.155556</td>\n",
       "      <td>0.030303</td>\n",
       "      <td>0.151754</td>\n",
       "      <td>0.215762</td>\n",
       "      <td>0.054798</td>\n",
       "      <td>0.866142</td>\n",
       "      <td>0.925197</td>\n",
       "      <td>0.594488</td>\n",
       "      <td>0.867838</td>\n",
       "      <td>...</td>\n",
       "      <td>0.0</td>\n",
       "      <td>0.0</td>\n",
       "      <td>0.0</td>\n",
       "      <td>0.0</td>\n",
       "      <td>0.0</td>\n",
       "      <td>0.0</td>\n",
       "      <td>0.0</td>\n",
       "      <td>0.0</td>\n",
       "      <td>0.0</td>\n",
       "      <td>0.0</td>\n",
       "    </tr>\n",
       "    <tr>\n",
       "      <th>1</th>\n",
       "      <td>0.472736</td>\n",
       "      <td>0.386111</td>\n",
       "      <td>0.136364</td>\n",
       "      <td>0.191840</td>\n",
       "      <td>0.307494</td>\n",
       "      <td>0.446817</td>\n",
       "      <td>0.921260</td>\n",
       "      <td>0.937008</td>\n",
       "      <td>0.531496</td>\n",
       "      <td>0.853339</td>\n",
       "      <td>...</td>\n",
       "      <td>0.0</td>\n",
       "      <td>0.0</td>\n",
       "      <td>0.0</td>\n",
       "      <td>0.0</td>\n",
       "      <td>0.0</td>\n",
       "      <td>0.0</td>\n",
       "      <td>0.0</td>\n",
       "      <td>0.0</td>\n",
       "      <td>0.0</td>\n",
       "      <td>0.0</td>\n",
       "    </tr>\n",
       "    <tr>\n",
       "      <th>2</th>\n",
       "      <td>0.463232</td>\n",
       "      <td>0.430556</td>\n",
       "      <td>0.272727</td>\n",
       "      <td>0.173228</td>\n",
       "      <td>0.375969</td>\n",
       "      <td>0.434172</td>\n",
       "      <td>0.937008</td>\n",
       "      <td>0.937008</td>\n",
       "      <td>0.480315</td>\n",
       "      <td>0.865886</td>\n",
       "      <td>...</td>\n",
       "      <td>0.0</td>\n",
       "      <td>0.0</td>\n",
       "      <td>0.0</td>\n",
       "      <td>0.0</td>\n",
       "      <td>0.0</td>\n",
       "      <td>0.0</td>\n",
       "      <td>0.0</td>\n",
       "      <td>0.0</td>\n",
       "      <td>0.0</td>\n",
       "      <td>0.0</td>\n",
       "    </tr>\n",
       "    <tr>\n",
       "      <th>3</th>\n",
       "      <td>0.368184</td>\n",
       "      <td>0.125000</td>\n",
       "      <td>0.030303</td>\n",
       "      <td>0.109520</td>\n",
       "      <td>0.222222</td>\n",
       "      <td>0.054939</td>\n",
       "      <td>0.866142</td>\n",
       "      <td>0.921260</td>\n",
       "      <td>0.590551</td>\n",
       "      <td>0.860449</td>\n",
       "      <td>...</td>\n",
       "      <td>0.0</td>\n",
       "      <td>0.0</td>\n",
       "      <td>0.0</td>\n",
       "      <td>0.0</td>\n",
       "      <td>0.0</td>\n",
       "      <td>0.0</td>\n",
       "      <td>0.0</td>\n",
       "      <td>0.0</td>\n",
       "      <td>0.0</td>\n",
       "      <td>0.0</td>\n",
       "    </tr>\n",
       "    <tr>\n",
       "      <th>4</th>\n",
       "      <td>0.360180</td>\n",
       "      <td>0.366667</td>\n",
       "      <td>0.090909</td>\n",
       "      <td>0.214746</td>\n",
       "      <td>0.204134</td>\n",
       "      <td>0.009414</td>\n",
       "      <td>0.905512</td>\n",
       "      <td>0.933071</td>\n",
       "      <td>0.551181</td>\n",
       "      <td>0.840792</td>\n",
       "      <td>...</td>\n",
       "      <td>0.0</td>\n",
       "      <td>0.0</td>\n",
       "      <td>0.0</td>\n",
       "      <td>0.0</td>\n",
       "      <td>0.0</td>\n",
       "      <td>0.0</td>\n",
       "      <td>0.0</td>\n",
       "      <td>0.0</td>\n",
       "      <td>0.0</td>\n",
       "      <td>0.0</td>\n",
       "    </tr>\n",
       "  </tbody>\n",
       "</table>\n",
       "<p>5 rows × 54 columns</p>\n",
       "</div>"
      ],
      "text/plain": [
       "       2596        51         3       258         0       510       221  \\\n",
       "0  0.365683  0.155556  0.030303  0.151754  0.215762  0.054798  0.866142   \n",
       "1  0.472736  0.386111  0.136364  0.191840  0.307494  0.446817  0.921260   \n",
       "2  0.463232  0.430556  0.272727  0.173228  0.375969  0.434172  0.937008   \n",
       "3  0.368184  0.125000  0.030303  0.109520  0.222222  0.054939  0.866142   \n",
       "4  0.360180  0.366667  0.090909  0.214746  0.204134  0.009414  0.905512   \n",
       "\n",
       "        232       148      6279  ...  0.33  0.34  0.35  0.36  0.37  0.38  \\\n",
       "0  0.925197  0.594488  0.867838  ...   0.0   0.0   0.0   0.0   0.0   0.0   \n",
       "1  0.937008  0.531496  0.853339  ...   0.0   0.0   0.0   0.0   0.0   0.0   \n",
       "2  0.937008  0.480315  0.865886  ...   0.0   0.0   0.0   0.0   0.0   0.0   \n",
       "3  0.921260  0.590551  0.860449  ...   0.0   0.0   0.0   0.0   0.0   0.0   \n",
       "4  0.933071  0.551181  0.840792  ...   0.0   0.0   0.0   0.0   0.0   0.0   \n",
       "\n",
       "   0.39  0.40  0.41  0.42  \n",
       "0   0.0   0.0   0.0   0.0  \n",
       "1   0.0   0.0   0.0   0.0  \n",
       "2   0.0   0.0   0.0   0.0  \n",
       "3   0.0   0.0   0.0   0.0  \n",
       "4   0.0   0.0   0.0   0.0  \n",
       "\n",
       "[5 rows x 54 columns]"
      ]
     },
     "execution_count": 26,
     "metadata": {},
     "output_type": "execute_result"
    }
   ],
   "source": [
    "#feature scaling the data using sklearn library\n",
    "normalize = covertype.columns[:54]\n",
    "scaler = preprocessing.MinMaxScaler()\n",
    "covertype_scaled = scaler.fit_transform(covertype.iloc[:,:54])\n",
    "covertype_scaled = pd.DataFrame(covertype_scaled, columns=normalize)\n",
    "\n",
    "covertype_scaled.head()"
   ]
  },
  {
   "cell_type": "code",
   "execution_count": 27,
   "metadata": {},
   "outputs": [
    {
     "data": {
      "text/html": [
       "<div>\n",
       "<style scoped>\n",
       "    .dataframe tbody tr th:only-of-type {\n",
       "        vertical-align: middle;\n",
       "    }\n",
       "\n",
       "    .dataframe tbody tr th {\n",
       "        vertical-align: top;\n",
       "    }\n",
       "\n",
       "    .dataframe thead th {\n",
       "        text-align: right;\n",
       "    }\n",
       "</style>\n",
       "<table border=\"1\" class=\"dataframe\">\n",
       "  <thead>\n",
       "    <tr style=\"text-align: right;\">\n",
       "      <th></th>\n",
       "      <th>2596</th>\n",
       "      <th>51</th>\n",
       "      <th>3</th>\n",
       "      <th>258</th>\n",
       "      <th>0</th>\n",
       "      <th>510</th>\n",
       "      <th>221</th>\n",
       "      <th>232</th>\n",
       "      <th>148</th>\n",
       "      <th>6279</th>\n",
       "      <th>...</th>\n",
       "      <th>0.34</th>\n",
       "      <th>0.35</th>\n",
       "      <th>0.36</th>\n",
       "      <th>0.37</th>\n",
       "      <th>0.38</th>\n",
       "      <th>0.39</th>\n",
       "      <th>0.40</th>\n",
       "      <th>0.41</th>\n",
       "      <th>0.42</th>\n",
       "      <th>5</th>\n",
       "    </tr>\n",
       "  </thead>\n",
       "  <tbody>\n",
       "    <tr>\n",
       "      <th>0</th>\n",
       "      <td>0.365683</td>\n",
       "      <td>0.155556</td>\n",
       "      <td>0.030303</td>\n",
       "      <td>0.151754</td>\n",
       "      <td>0.215762</td>\n",
       "      <td>0.054798</td>\n",
       "      <td>0.866142</td>\n",
       "      <td>0.925197</td>\n",
       "      <td>0.594488</td>\n",
       "      <td>0.867838</td>\n",
       "      <td>...</td>\n",
       "      <td>0.0</td>\n",
       "      <td>0.0</td>\n",
       "      <td>0.0</td>\n",
       "      <td>0.0</td>\n",
       "      <td>0.0</td>\n",
       "      <td>0.0</td>\n",
       "      <td>0.0</td>\n",
       "      <td>0.0</td>\n",
       "      <td>0.0</td>\n",
       "      <td>5</td>\n",
       "    </tr>\n",
       "    <tr>\n",
       "      <th>1</th>\n",
       "      <td>0.472736</td>\n",
       "      <td>0.386111</td>\n",
       "      <td>0.136364</td>\n",
       "      <td>0.191840</td>\n",
       "      <td>0.307494</td>\n",
       "      <td>0.446817</td>\n",
       "      <td>0.921260</td>\n",
       "      <td>0.937008</td>\n",
       "      <td>0.531496</td>\n",
       "      <td>0.853339</td>\n",
       "      <td>...</td>\n",
       "      <td>0.0</td>\n",
       "      <td>0.0</td>\n",
       "      <td>0.0</td>\n",
       "      <td>0.0</td>\n",
       "      <td>0.0</td>\n",
       "      <td>0.0</td>\n",
       "      <td>0.0</td>\n",
       "      <td>0.0</td>\n",
       "      <td>0.0</td>\n",
       "      <td>2</td>\n",
       "    </tr>\n",
       "    <tr>\n",
       "      <th>2</th>\n",
       "      <td>0.463232</td>\n",
       "      <td>0.430556</td>\n",
       "      <td>0.272727</td>\n",
       "      <td>0.173228</td>\n",
       "      <td>0.375969</td>\n",
       "      <td>0.434172</td>\n",
       "      <td>0.937008</td>\n",
       "      <td>0.937008</td>\n",
       "      <td>0.480315</td>\n",
       "      <td>0.865886</td>\n",
       "      <td>...</td>\n",
       "      <td>0.0</td>\n",
       "      <td>0.0</td>\n",
       "      <td>0.0</td>\n",
       "      <td>0.0</td>\n",
       "      <td>0.0</td>\n",
       "      <td>0.0</td>\n",
       "      <td>0.0</td>\n",
       "      <td>0.0</td>\n",
       "      <td>0.0</td>\n",
       "      <td>2</td>\n",
       "    </tr>\n",
       "    <tr>\n",
       "      <th>3</th>\n",
       "      <td>0.368184</td>\n",
       "      <td>0.125000</td>\n",
       "      <td>0.030303</td>\n",
       "      <td>0.109520</td>\n",
       "      <td>0.222222</td>\n",
       "      <td>0.054939</td>\n",
       "      <td>0.866142</td>\n",
       "      <td>0.921260</td>\n",
       "      <td>0.590551</td>\n",
       "      <td>0.860449</td>\n",
       "      <td>...</td>\n",
       "      <td>0.0</td>\n",
       "      <td>0.0</td>\n",
       "      <td>0.0</td>\n",
       "      <td>0.0</td>\n",
       "      <td>0.0</td>\n",
       "      <td>0.0</td>\n",
       "      <td>0.0</td>\n",
       "      <td>0.0</td>\n",
       "      <td>0.0</td>\n",
       "      <td>5</td>\n",
       "    </tr>\n",
       "    <tr>\n",
       "      <th>4</th>\n",
       "      <td>0.360180</td>\n",
       "      <td>0.366667</td>\n",
       "      <td>0.090909</td>\n",
       "      <td>0.214746</td>\n",
       "      <td>0.204134</td>\n",
       "      <td>0.009414</td>\n",
       "      <td>0.905512</td>\n",
       "      <td>0.933071</td>\n",
       "      <td>0.551181</td>\n",
       "      <td>0.840792</td>\n",
       "      <td>...</td>\n",
       "      <td>0.0</td>\n",
       "      <td>0.0</td>\n",
       "      <td>0.0</td>\n",
       "      <td>0.0</td>\n",
       "      <td>0.0</td>\n",
       "      <td>0.0</td>\n",
       "      <td>0.0</td>\n",
       "      <td>0.0</td>\n",
       "      <td>0.0</td>\n",
       "      <td>2</td>\n",
       "    </tr>\n",
       "  </tbody>\n",
       "</table>\n",
       "<p>5 rows × 55 columns</p>\n",
       "</div>"
      ],
      "text/plain": [
       "       2596        51         3       258         0       510       221  \\\n",
       "0  0.365683  0.155556  0.030303  0.151754  0.215762  0.054798  0.866142   \n",
       "1  0.472736  0.386111  0.136364  0.191840  0.307494  0.446817  0.921260   \n",
       "2  0.463232  0.430556  0.272727  0.173228  0.375969  0.434172  0.937008   \n",
       "3  0.368184  0.125000  0.030303  0.109520  0.222222  0.054939  0.866142   \n",
       "4  0.360180  0.366667  0.090909  0.214746  0.204134  0.009414  0.905512   \n",
       "\n",
       "        232       148      6279  ...  0.34  0.35  0.36  0.37  0.38  0.39  \\\n",
       "0  0.925197  0.594488  0.867838  ...   0.0   0.0   0.0   0.0   0.0   0.0   \n",
       "1  0.937008  0.531496  0.853339  ...   0.0   0.0   0.0   0.0   0.0   0.0   \n",
       "2  0.937008  0.480315  0.865886  ...   0.0   0.0   0.0   0.0   0.0   0.0   \n",
       "3  0.921260  0.590551  0.860449  ...   0.0   0.0   0.0   0.0   0.0   0.0   \n",
       "4  0.933071  0.551181  0.840792  ...   0.0   0.0   0.0   0.0   0.0   0.0   \n",
       "\n",
       "   0.40  0.41  0.42  5  \n",
       "0   0.0   0.0   0.0  5  \n",
       "1   0.0   0.0   0.0  2  \n",
       "2   0.0   0.0   0.0  2  \n",
       "3   0.0   0.0   0.0  5  \n",
       "4   0.0   0.0   0.0  2  \n",
       "\n",
       "[5 rows x 55 columns]"
      ]
     },
     "execution_count": 27,
     "metadata": {},
     "output_type": "execute_result"
    }
   ],
   "source": [
    "#replacing old data with scaled data\n",
    "covertype.iloc[:,:54] = covertype_scaled \n",
    "covertype.head()"
   ]
  },
  {
   "cell_type": "code",
   "execution_count": 28,
   "metadata": {},
   "outputs": [],
   "source": [
    "#splitting dataset into 80% training and 20% testing sets choosing randomly\n",
    "## splitting the data into independent x and target values y as well as transforming them to the array\n",
    "\n",
    "from sklearn.model_selection import train_test_split\n",
    "\n",
    "x = covertype.iloc[:50000,:54].values  #cutting down the data as training was taking too long\n",
    "y = covertype.iloc[:50000,-1].values   ##getting the target values attached to the"
   ]
  },
  {
   "cell_type": "code",
   "execution_count": 6,
   "metadata": {},
   "outputs": [
    {
     "name": "stdout",
     "output_type": "stream",
     "text": [
      "x_train <class 'numpy.ndarray'>\n",
      "x_test (10000, 54)\n",
      "y_train (40000,)\n",
      "y_test (10000,)\n"
     ]
    }
   ],
   "source": [
    "#Splitting the dataset\n",
    "\n",
    "x_train, x_test, y_train, y_test = train_test_split(x, y, test_size = 0.20, random_state = 0)\n",
    "\n",
    "print(\"x_train\",type(x_train))\n",
    "print(\"x_test\", x_test.shape)\n",
    "print(\"y_train\",y_train.shape)\n",
    "print(\"y_test\", y_test.shape)"
   ]
  },
  {
   "cell_type": "markdown",
   "metadata": {},
   "source": [
    "## Building a model for SVM without kernel"
   ]
  },
  {
   "cell_type": "code",
   "execution_count": 7,
   "metadata": {},
   "outputs": [],
   "source": [
    "from sklearn.svm import SVC\n",
    "model = SVC()"
   ]
  },
  {
   "cell_type": "code",
   "execution_count": 8,
   "metadata": {},
   "outputs": [
    {
     "data": {
      "text/plain": [
       "SVC()"
      ]
     },
     "execution_count": 8,
     "metadata": {},
     "output_type": "execute_result"
    }
   ],
   "source": [
    "model.fit(x_train, y_train) #fitting the data"
   ]
  },
  {
   "cell_type": "code",
   "execution_count": 9,
   "metadata": {},
   "outputs": [],
   "source": [
    "y_predict = model.predict(x_test) #making model predict the values "
   ]
  },
  {
   "cell_type": "code",
   "execution_count": 10,
   "metadata": {},
   "outputs": [
    {
     "name": "stdout",
     "output_type": "stream",
     "text": [
      "              precision    recall  f1-score   support\n",
      "\n",
      "           1       0.80      0.57      0.67      2059\n",
      "           2       0.85      0.95      0.89      5765\n",
      "           3       0.68      0.53      0.60       427\n",
      "           4       0.76      0.97      0.85       432\n",
      "           5       0.74      0.57      0.65       476\n",
      "           6       0.62      0.62      0.62       407\n",
      "           7       0.92      0.85      0.89       434\n",
      "\n",
      "    accuracy                           0.82     10000\n",
      "   macro avg       0.77      0.72      0.74     10000\n",
      "weighted avg       0.81      0.82      0.81     10000\n",
      "\n"
     ]
    }
   ],
   "source": [
    "from sklearn.metrics import classification_report \n",
    "print(classification_report(y_test,y_predict)) #printing the classification report"
   ]
  },
  {
   "cell_type": "markdown",
   "metadata": {},
   "source": [
    "## Building a model for SVC with Kernel"
   ]
  },
  {
   "cell_type": "code",
   "execution_count": 11,
   "metadata": {},
   "outputs": [
    {
     "data": {
      "text/plain": [
       "SVC(kernel='linear')"
      ]
     },
     "execution_count": 11,
     "metadata": {},
     "output_type": "execute_result"
    }
   ],
   "source": [
    "model_kernel = SVC(kernel='linear')\n",
    "model_kernel.fit(x_train, y_train)"
   ]
  },
  {
   "cell_type": "code",
   "execution_count": 12,
   "metadata": {},
   "outputs": [],
   "source": [
    "y_predict_kernel = model.predict(x_test)"
   ]
  },
  {
   "cell_type": "code",
   "execution_count": 13,
   "metadata": {},
   "outputs": [
    {
     "name": "stdout",
     "output_type": "stream",
     "text": [
      "              precision    recall  f1-score   support\n",
      "\n",
      "           1       0.80      0.57      0.67      2059\n",
      "           2       0.85      0.95      0.89      5765\n",
      "           3       0.68      0.53      0.60       427\n",
      "           4       0.76      0.97      0.85       432\n",
      "           5       0.74      0.57      0.65       476\n",
      "           6       0.62      0.62      0.62       407\n",
      "           7       0.92      0.85      0.89       434\n",
      "\n",
      "    accuracy                           0.82     10000\n",
      "   macro avg       0.77      0.72      0.74     10000\n",
      "weighted avg       0.81      0.82      0.81     10000\n",
      "\n"
     ]
    }
   ],
   "source": [
    "from sklearn.metrics import classification_report \n",
    "print(classification_report(y_test,y_predict_kernel)) #printing the classification report of model with Kernel"
   ]
  },
  {
   "cell_type": "markdown",
   "metadata": {},
   "source": [
    "## Comparison of SVM model with Kernel and without kernel\n",
    "\n",
    "I found that the for the smaller dataset like 10000 the Model without kernel showed an efficiency of 76% and with kernel showed an efficiency of around 75%, however when the dataset was increased to 50000 then both showed the better efficiency and accuracy which is around 82%"
   ]
  },
  {
   "cell_type": "markdown",
   "metadata": {},
   "source": [
    "## Using PCA to reduce the feature representation to a more compact version "
   ]
  },
  {
   "cell_type": "markdown",
   "metadata": {},
   "source": [
    "## Applying PCA for 30% of the data"
   ]
  },
  {
   "cell_type": "code",
   "execution_count": 14,
   "metadata": {},
   "outputs": [],
   "source": [
    "from sklearn.decomposition import PCA #importing library for PCA\n",
    "pca = PCA(n_components=16) #for 30% of the data"
   ]
  },
  {
   "cell_type": "code",
   "execution_count": 15,
   "metadata": {},
   "outputs": [
    {
     "data": {
      "text/plain": [
       "(50000, 54)"
      ]
     },
     "execution_count": 15,
     "metadata": {},
     "output_type": "execute_result"
    }
   ],
   "source": [
    "x.shape #intital shape of the training data"
   ]
  },
  {
   "cell_type": "code",
   "execution_count": 16,
   "metadata": {},
   "outputs": [
    {
     "data": {
      "text/plain": [
       "(50000, 16)"
      ]
     },
     "execution_count": 16,
     "metadata": {},
     "output_type": "execute_result"
    }
   ],
   "source": [
    "x_reduced = pca.fit_transform(x)  #applying PCA on the data\n",
    "x_reduced.shape"
   ]
  },
  {
   "cell_type": "code",
   "execution_count": 17,
   "metadata": {},
   "outputs": [
    {
     "name": "stdout",
     "output_type": "stream",
     "text": [
      "              precision    recall  f1-score   support\n",
      "\n",
      "           1       0.80      0.57      0.66      2059\n",
      "           2       0.85      0.94      0.90      5765\n",
      "           3       0.66      0.55      0.60       427\n",
      "           4       0.76      0.95      0.85       432\n",
      "           5       0.69      0.65      0.67       476\n",
      "           6       0.63      0.61      0.62       407\n",
      "           7       0.91      0.84      0.87       434\n",
      "\n",
      "    accuracy                           0.82     10000\n",
      "   macro avg       0.76      0.73      0.74     10000\n",
      "weighted avg       0.81      0.82      0.81     10000\n",
      "\n"
     ]
    }
   ],
   "source": [
    "#now on this feature reduced data applying SVM without Kernel\n",
    "x_train, x_test, y_train, y_test = train_test_split(x_reduced, y, test_size = 0.20, random_state = 0)\n",
    "model.fit(x_train, y_train) \n",
    "y_predict_30 = model.predict(x_test)\n",
    "print(classification_report(y_test,y_predict_30)) #printing the classification report"
   ]
  },
  {
   "cell_type": "code",
   "execution_count": 18,
   "metadata": {},
   "outputs": [
    {
     "name": "stdout",
     "output_type": "stream",
     "text": [
      "              precision    recall  f1-score   support\n",
      "\n",
      "           1       0.80      0.57      0.66      2059\n",
      "           2       0.85      0.94      0.90      5765\n",
      "           3       0.66      0.55      0.60       427\n",
      "           4       0.76      0.95      0.85       432\n",
      "           5       0.69      0.65      0.67       476\n",
      "           6       0.63      0.61      0.62       407\n",
      "           7       0.91      0.84      0.87       434\n",
      "\n",
      "    accuracy                           0.82     10000\n",
      "   macro avg       0.76      0.73      0.74     10000\n",
      "weighted avg       0.81      0.82      0.81     10000\n",
      "\n"
     ]
    }
   ],
   "source": [
    "#on the feature reduced data applying SVM with kernel\n",
    "model_kernel.fit(x_train, y_train) \n",
    "y_predict_30_kernel = model.predict(x_test)\n",
    "print(classification_report(y_test,y_predict_30_kernel)) #printing the classification report"
   ]
  },
  {
   "cell_type": "markdown",
   "metadata": {},
   "source": [
    "## Comparing SVC with and without Kernel on 30% data.\n",
    "\n",
    "I found that the training time reduced a lot after applying the PCA and also since the important features are kept intact thats why the accuracy remains intact which helps the system to become more efficient and use less computation power."
   ]
  },
  {
   "cell_type": "markdown",
   "metadata": {},
   "source": [
    "## Applying PCA for 20% of the data"
   ]
  },
  {
   "cell_type": "code",
   "execution_count": 29,
   "metadata": {},
   "outputs": [
    {
     "data": {
      "text/plain": [
       "(50000, 54)"
      ]
     },
     "execution_count": 29,
     "metadata": {},
     "output_type": "execute_result"
    }
   ],
   "source": [
    "pca_20 = PCA(n_components=11) #for 20% of the data\n",
    "x.shape #intital shape of the training data"
   ]
  },
  {
   "cell_type": "code",
   "execution_count": 31,
   "metadata": {},
   "outputs": [
    {
     "data": {
      "text/plain": [
       "(50000, 11)"
      ]
     },
     "execution_count": 31,
     "metadata": {},
     "output_type": "execute_result"
    }
   ],
   "source": [
    "x_reduced_20 = pca_20.fit_transform(x)  #applying PCA on the data\n",
    "x_reduced_20.shape"
   ]
  },
  {
   "cell_type": "code",
   "execution_count": 32,
   "metadata": {},
   "outputs": [
    {
     "name": "stdout",
     "output_type": "stream",
     "text": [
      "              precision    recall  f1-score   support\n",
      "\n",
      "           1       0.78      0.54      0.63      2059\n",
      "           2       0.85      0.93      0.89      5765\n",
      "           3       0.68      0.34      0.45       427\n",
      "           4       0.67      0.93      0.78       432\n",
      "           5       0.59      0.60      0.59       476\n",
      "           6       0.55      0.62      0.58       407\n",
      "           7       0.76      0.84      0.80       434\n",
      "\n",
      "    accuracy                           0.79     10000\n",
      "   macro avg       0.70      0.68      0.67     10000\n",
      "weighted avg       0.79      0.79      0.78     10000\n",
      "\n"
     ]
    }
   ],
   "source": [
    "#now on this feature reduced data applying SVM without Kernel\n",
    "x_train, x_test, y_train, y_test = train_test_split(x_reduced_20, y, test_size = 0.20, random_state = 0)\n",
    "model.fit(x_train, y_train) \n",
    "y_predict_20 = model.predict(x_test)\n",
    "print(classification_report(y_test,y_predict_20)) #printing the classification report"
   ]
  },
  {
   "cell_type": "code",
   "execution_count": 33,
   "metadata": {},
   "outputs": [
    {
     "name": "stdout",
     "output_type": "stream",
     "text": [
      "              precision    recall  f1-score   support\n",
      "\n",
      "           1       0.78      0.54      0.63      2059\n",
      "           2       0.85      0.93      0.89      5765\n",
      "           3       0.68      0.34      0.45       427\n",
      "           4       0.67      0.93      0.78       432\n",
      "           5       0.59      0.60      0.59       476\n",
      "           6       0.55      0.62      0.58       407\n",
      "           7       0.76      0.84      0.80       434\n",
      "\n",
      "    accuracy                           0.79     10000\n",
      "   macro avg       0.70      0.68      0.67     10000\n",
      "weighted avg       0.79      0.79      0.78     10000\n",
      "\n"
     ]
    }
   ],
   "source": [
    "#on the feature reduced data applying SVM with kernel\n",
    "model_kernel.fit(x_train, y_train) \n",
    "y_predict_20_kernel = model.predict(x_test)\n",
    "print(classification_report(y_test,y_predict_20_kernel)) #printing the classification report"
   ]
  },
  {
   "cell_type": "markdown",
   "metadata": {},
   "source": [
    "For the PCA which reduced the features to 20% the accuracy of the data reduced though the computation power required by the system decreased as it trained the data in a very less time."
   ]
  },
  {
   "cell_type": "markdown",
   "metadata": {},
   "source": [
    "## Applying PCA for 10% of the data"
   ]
  },
  {
   "cell_type": "code",
   "execution_count": 34,
   "metadata": {},
   "outputs": [
    {
     "data": {
      "text/plain": [
       "(50000, 54)"
      ]
     },
     "execution_count": 34,
     "metadata": {},
     "output_type": "execute_result"
    }
   ],
   "source": [
    "pca_10 = PCA(n_components=6) #for 20% of the data\n",
    "x.shape #intital shape of the training data"
   ]
  },
  {
   "cell_type": "code",
   "execution_count": 35,
   "metadata": {},
   "outputs": [
    {
     "data": {
      "text/plain": [
       "(50000, 6)"
      ]
     },
     "execution_count": 35,
     "metadata": {},
     "output_type": "execute_result"
    }
   ],
   "source": [
    "x_reduced_10 = pca_10.fit_transform(x)  #applying PCA on the data\n",
    "x_reduced_10.shape"
   ]
  },
  {
   "cell_type": "code",
   "execution_count": 36,
   "metadata": {},
   "outputs": [
    {
     "name": "stdout",
     "output_type": "stream",
     "text": [
      "              precision    recall  f1-score   support\n",
      "\n",
      "           1       0.76      0.53      0.62      2059\n",
      "           2       0.85      0.93      0.89      5765\n",
      "           3       0.52      0.34      0.41       427\n",
      "           4       0.64      0.96      0.77       432\n",
      "           5       0.52      0.58      0.55       476\n",
      "           6       0.59      0.48      0.53       407\n",
      "           7       0.68      0.71      0.69       434\n",
      "\n",
      "    accuracy                           0.78     10000\n",
      "   macro avg       0.65      0.65      0.64     10000\n",
      "weighted avg       0.77      0.78      0.77     10000\n",
      "\n"
     ]
    }
   ],
   "source": [
    "#now on this feature reduced data applying SVM without Kernel\n",
    "x_train, x_test, y_train, y_test = train_test_split(x_reduced_10, y, test_size = 0.20, random_state = 0)\n",
    "model.fit(x_train, y_train) \n",
    "y_predict_10 = model.predict(x_test)\n",
    "print(classification_report(y_test,y_predict_10)) #printing the classification report"
   ]
  },
  {
   "cell_type": "code",
   "execution_count": 37,
   "metadata": {},
   "outputs": [
    {
     "name": "stdout",
     "output_type": "stream",
     "text": [
      "              precision    recall  f1-score   support\n",
      "\n",
      "           1       0.76      0.53      0.62      2059\n",
      "           2       0.85      0.93      0.89      5765\n",
      "           3       0.52      0.34      0.41       427\n",
      "           4       0.64      0.96      0.77       432\n",
      "           5       0.52      0.58      0.55       476\n",
      "           6       0.59      0.48      0.53       407\n",
      "           7       0.68      0.71      0.69       434\n",
      "\n",
      "    accuracy                           0.78     10000\n",
      "   macro avg       0.65      0.65      0.64     10000\n",
      "weighted avg       0.77      0.78      0.77     10000\n",
      "\n"
     ]
    }
   ],
   "source": [
    "#on the feature reduced data applying SVM with kernel\n",
    "model_kernel.fit(x_train, y_train) \n",
    "y_predict_10_kernel = model.predict(x_test)\n",
    "print(classification_report(y_test,y_predict_10_kernel)) #printing the classification repor"
   ]
  },
  {
   "cell_type": "markdown",
   "metadata": {},
   "source": [
    "For the PCA which reduced the features to 10% the accuracy of the data further reduced though the computation power required by the system decreased even further as it trained the data in a very less time."
   ]
  },
  {
   "cell_type": "markdown",
   "metadata": {},
   "source": [
    "# IV. Experiments\n",
    "\n",
    "Apply the classfiers on the data and discuss the results.\n",
    "Please describe your codes for experiments. You may have subsections of results and discussions here.\n",
    "Here follows the list that you consider to include:\n",
    "- the classification results\n",
    "- plots of classification results \n",
    "- model comparision \n",
    "- choice of evaluation metrics\n",
    "- **Must partition data into training and testing**"
   ]
  },
  {
   "cell_type": "markdown",
   "metadata": {},
   "source": [
    "# Conclusions\n",
    "\n",
    "Both the classifier worked really well on the data but the maximum accuracy I can get and that was the saturation point of the accuracy according to me was 82%, before that with the smaller dataset SVC without kernel was performing better that with kernel.\n",
    "\n",
    "Also after applying PCA and reducing features to 30% the efficiency of the system improved to almost 50% as the system took less time to train, but it kept intact the important features of the data that helped the system to work with the same accuracy.\n",
    "\n",
    "But as I kept on reducing the features of the data more and more to 20% and 10%, the model's accuracy started decreasing as may be the important features were truncated. \n",
    "\n",
    "So, what I observed is that reducing the data to 30% maintained a perfect balance with keeping the accuracy intact and also kept the computation power usage to medium level as well.\n"
   ]
  }
 ],
 "metadata": {
  "kernelspec": {
   "display_name": "Python 3",
   "language": "python",
   "name": "python3"
  },
  "language_info": {
   "codemirror_mode": {
    "name": "ipython",
    "version": 3
   },
   "file_extension": ".py",
   "mimetype": "text/x-python",
   "name": "python",
   "nbconvert_exporter": "python",
   "pygments_lexer": "ipython3",
   "version": "3.8.5"
  }
 },
 "nbformat": 4,
 "nbformat_minor": 4
}
